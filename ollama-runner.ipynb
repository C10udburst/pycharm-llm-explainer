{
  "cells": [
    {
      "cell_type": "markdown",
      "source": [
        "<br />\n",
        "\n",
        "<a target=\"_blank\" href=\"https://colab.research.google.com/github/C10udburst/pycharm-llm-explainer/blob/main/ollama-runner.ipynb\">\n",
        "  <img src=\"https://colab.research.google.com/assets/colab-badge.svg\" alt=\"Open In Colab\"/>\n",
        "</a>\n",
        "\n",
        "<br />"
      ],
      "metadata": {
        "id": "KMbl3Njaj6y9"
      }
    },
    {
      "cell_type": "code",
      "execution_count": null,
      "metadata": {
        "id": "o8ySZ-xEA7ZV"
      },
      "outputs": [],
      "source": [
        "!curl https://ollama.ai/install.sh | sh"
      ]
    },
    {
      "cell_type": "code",
      "execution_count": null,
      "metadata": {
        "id": "j6YN32S2BKSG"
      },
      "outputs": [],
      "source": [
        "!nohup ollama serve &"
      ]
    },
    {
      "cell_type": "code",
      "execution_count": null,
      "metadata": {
        "id": "mUHzfNttBEwv"
      },
      "outputs": [],
      "source": [
        "!ollama pull llama2:7b"
      ]
    },
    {
      "cell_type": "code",
      "execution_count": null,
      "metadata": {
        "colab": {
          "background_save": true
        },
        "id": "-rjawsppBIuG"
      },
      "outputs": [],
      "source": [
        "!npm install -g localtunnel\n",
        "!lt --port 11434 &"
      ]
    }
  ],
  "metadata": {
    "accelerator": "GPU",
    "colab": {
      "provenance": []
    },
    "kernelspec": {
      "display_name": "Python 3",
      "name": "python3"
    },
    "language_info": {
      "name": "python"
    }
  },
  "nbformat": 4,
  "nbformat_minor": 0
}
